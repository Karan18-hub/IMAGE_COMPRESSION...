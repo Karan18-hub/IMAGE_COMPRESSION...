{
  "nbformat": 4,
  "nbformat_minor": 0,
  "metadata": {
    "colab": {
      "provenance": [],
      "include_colab_link": true
    },
    "kernelspec": {
      "name": "python3",
      "display_name": "Python 3"
    },
    "language_info": {
      "name": "python"
    }
  },
  "cells": [
    {
      "cell_type": "markdown",
      "metadata": {
        "id": "view-in-github",
        "colab_type": "text"
      },
      "source": [
        "<a href=\"https://colab.research.google.com/github/Karan18-hub/IMAGE_COMPRESSION.../blob/main/image_compression.ipynb\" target=\"_parent\"><img src=\"https://colab.research.google.com/assets/colab-badge.svg\" alt=\"Open In Colab\"/></a>"
      ]
    },
    {
      "cell_type": "code",
      "source": [
        "import zipfile\n",
        "\n",
        "# Path to the uploaded ZIP file\n",
        "zip_path = '/content/Bank Statement.zip'\n",
        "\n",
        "# Destination path for extraction\n",
        "extract_path = '/content/folder'\n",
        "\n",
        "# Extract the contents of the ZIP file\n",
        "with zipfile.ZipFile(zip_path, 'r') as zip_ref:\n",
        "    zip_ref.extractall(extract_path)\n"
      ],
      "metadata": {
        "id": "Gz4B_ndR7Qd2"
      },
      "execution_count": null,
      "outputs": []
    },
    {
      "cell_type": "code",
      "execution_count": null,
      "metadata": {
        "colab": {
          "base_uri": "https://localhost:8080/"
        },
        "id": "tgRbGgBa57Wf",
        "outputId": "75b71f76-90f2-4881-8df0-33a53b5a150f"
      },
      "outputs": [
        {
          "output_type": "execute_result",
          "data": {
            "text/plain": [
              "True"
            ]
          },
          "metadata": {},
          "execution_count": 7
        }
      ],
      "source": [
        "import cv2\n",
        "import os\n",
        "\n",
        "# Path to the input folder containing images\n",
        "input_folder = '/content/folder/Bank Statement'\n",
        "\n",
        "\n",
        "# Path to the output folder where we want to save the compressed images\n",
        "output_folder = '/content/compressed_images'\n",
        "os.makedirs(output_folder, exist_ok=True)\n",
        "\n",
        "# Get the list of image files in the input folder\n",
        "image_files = [file for file in os.listdir(input_folder) if file.endswith('.jpg') or file.endswith('.png')]\n",
        "\n",
        "# Processing each image file\n",
        "for image_file in image_files:\n",
        "    # Reading the image\n",
        "    image_path = os.path.join(input_folder, image_file)\n",
        "    image = cv2.imread(image_path)\n",
        "\n",
        "# Get the original width and height\n",
        "height, width = image.shape[:2]\n",
        "\n",
        "# finding the new width and height for compression\n",
        "new_width = int(width * 0.5)\n",
        "new_height = int(height * 0.5)\n",
        "\n",
        "# Resizing the image for compression\n",
        "compressed_image = cv2.resize(image, (new_width, new_height))\n",
        "\n",
        "# Save the compressed image\n",
        "output_path = os.path.join(output_folder, image_file)\n",
        "cv2.imwrite(output_path, compressed_image)\n"
      ]
    }
  ]
}